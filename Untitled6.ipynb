{
  "nbformat": 4,
  "nbformat_minor": 0,
  "metadata": {
    "colab": {
      "provenance": [],
      "authorship_tag": "ABX9TyOUICa5VsfU3Y6vxE11TMRf",
      "include_colab_link": true
    },
    "kernelspec": {
      "name": "python3",
      "display_name": "Python 3"
    },
    "language_info": {
      "name": "python"
    }
  },
  "cells": [
    {
      "cell_type": "markdown",
      "metadata": {
        "id": "view-in-github",
        "colab_type": "text"
      },
      "source": [
        "<a href=\"https://colab.research.google.com/github/srichandhan45/exp/blob/main/Untitled6.ipynb\" target=\"_parent\"><img src=\"https://colab.research.google.com/assets/colab-badge.svg\" alt=\"Open In Colab\"/></a>"
      ]
    },
    {
      "cell_type": "code",
      "execution_count": 1,
      "metadata": {
        "colab": {
          "base_uri": "https://localhost:8080/"
        },
        "id": "BnqfA1gh3fXr",
        "outputId": "9f1f51bc-94d9-4fed-b24e-60a3dccea9ae"
      },
      "outputs": [
        {
          "output_type": "stream",
          "name": "stdout",
          "text": [
            "roots are 2.0 1.0\n"
          ]
        }
      ],
      "source": [
        "import  math\n",
        "a=1\n",
        "b=-3\n",
        "c=2\n",
        "d= (b*b)-(4*a*c)\n",
        "r1= ((-b)+ math.sqrt(d))/(2*a)\n",
        "r2= ((-b)- math.sqrt(d))/(2*a)\n",
        "print('roots are',r1,r2)"
      ]
    }
  ]
}